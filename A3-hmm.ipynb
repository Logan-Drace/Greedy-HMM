{
 "cells": [
  {
   "cell_type": "code",
   "execution_count": 1,
   "id": "2f2b66a6",
   "metadata": {},
   "outputs": [],
   "source": [
    "import pandas as pd\n",
    "import numpy as np\n",
    "from collections import Counter\n",
    "import matplotlib.pyplot as plt"
   ]
  },
  {
   "cell_type": "code",
   "execution_count": 2,
   "id": "2d23e44b",
   "metadata": {},
   "outputs": [
    {
     "data": {
      "text/html": [
       "<div>\n",
       "<style scoped>\n",
       "    .dataframe tbody tr th:only-of-type {\n",
       "        vertical-align: middle;\n",
       "    }\n",
       "\n",
       "    .dataframe tbody tr th {\n",
       "        vertical-align: top;\n",
       "    }\n",
       "\n",
       "    .dataframe thead th {\n",
       "        text-align: right;\n",
       "    }\n",
       "</style>\n",
       "<table border=\"1\" class=\"dataframe\">\n",
       "  <thead>\n",
       "    <tr style=\"text-align: right;\">\n",
       "      <th></th>\n",
       "      <th>word</th>\n",
       "      <th>tag</th>\n",
       "      <th>prev_tag</th>\n",
       "    </tr>\n",
       "  </thead>\n",
       "  <tbody>\n",
       "    <tr>\n",
       "      <th>0</th>\n",
       "      <td>Confidence</td>\n",
       "      <td>NN</td>\n",
       "      <td>NaN</td>\n",
       "    </tr>\n",
       "    <tr>\n",
       "      <th>1</th>\n",
       "      <td>in</td>\n",
       "      <td>IN</td>\n",
       "      <td>NN</td>\n",
       "    </tr>\n",
       "    <tr>\n",
       "      <th>2</th>\n",
       "      <td>the</td>\n",
       "      <td>DT</td>\n",
       "      <td>IN</td>\n",
       "    </tr>\n",
       "    <tr>\n",
       "      <th>3</th>\n",
       "      <td>pound</td>\n",
       "      <td>NN</td>\n",
       "      <td>DT</td>\n",
       "    </tr>\n",
       "    <tr>\n",
       "      <th>4</th>\n",
       "      <td>is</td>\n",
       "      <td>VBZ</td>\n",
       "      <td>NN</td>\n",
       "    </tr>\n",
       "    <tr>\n",
       "      <th>...</th>\n",
       "      <td>...</td>\n",
       "      <td>...</td>\n",
       "      <td>...</td>\n",
       "    </tr>\n",
       "    <tr>\n",
       "      <th>211722</th>\n",
       "      <td>to</td>\n",
       "      <td>TO</td>\n",
       "      <td>PRP</td>\n",
       "    </tr>\n",
       "    <tr>\n",
       "      <th>211723</th>\n",
       "      <td>San</td>\n",
       "      <td>NNP</td>\n",
       "      <td>TO</td>\n",
       "    </tr>\n",
       "    <tr>\n",
       "      <th>211724</th>\n",
       "      <td>Francisco</td>\n",
       "      <td>NNP</td>\n",
       "      <td>NNP</td>\n",
       "    </tr>\n",
       "    <tr>\n",
       "      <th>211725</th>\n",
       "      <td>instead</td>\n",
       "      <td>RB</td>\n",
       "      <td>NNP</td>\n",
       "    </tr>\n",
       "    <tr>\n",
       "      <th>211726</th>\n",
       "      <td>.</td>\n",
       "      <td>.</td>\n",
       "      <td>RB</td>\n",
       "    </tr>\n",
       "  </tbody>\n",
       "</table>\n",
       "<p>211727 rows × 3 columns</p>\n",
       "</div>"
      ],
      "text/plain": [
       "              word  tag prev_tag\n",
       "0       Confidence   NN      NaN\n",
       "1               in   IN       NN\n",
       "2              the   DT       IN\n",
       "3            pound   NN       DT\n",
       "4               is  VBZ       NN\n",
       "...            ...  ...      ...\n",
       "211722          to   TO      PRP\n",
       "211723         San  NNP       TO\n",
       "211724   Francisco  NNP      NNP\n",
       "211725     instead   RB      NNP\n",
       "211726           .    .       RB\n",
       "\n",
       "[211727 rows x 3 columns]"
      ]
     },
     "execution_count": 2,
     "metadata": {},
     "output_type": "execute_result"
    }
   ],
   "source": [
    "train = pd.read_csv('train.txt', sep=' ', names=['word', 'tag', 'ignore'])\n",
    "train.drop(['ignore'], axis=1, inplace=True)\n",
    "train['prev_tag'] = train['tag'].shift(1)\n",
    "\n",
    "train"
   ]
  },
  {
   "cell_type": "code",
   "execution_count": 3,
   "id": "363a738f",
   "metadata": {},
   "outputs": [],
   "source": [
    "test = pd.read_csv('test.txt', sep=' ', names=['word', 'tag', 'ignore'])\n",
    "test.drop(['ignore'], axis=1, inplace=True)"
   ]
  },
  {
   "cell_type": "markdown",
   "id": "d2bdbcb5",
   "metadata": {},
   "source": [
    "### Initial EDA"
   ]
  },
  {
   "cell_type": "code",
   "execution_count": 4,
   "id": "875273c8",
   "metadata": {},
   "outputs": [
    {
     "name": "stdout",
     "output_type": "stream",
     "text": [
      "# of unique words: 19122\n",
      "# of unique tags: 44\n"
     ]
    },
    {
     "data": {
      "image/png": "[encoded data removed]",
      "text/plain": [
       "<Figure size 432x288 with 1 Axes>"
      ]
     },
     "metadata": {
      "needs_background": "light"
     },
     "output_type": "display_data"
    }
   ],
   "source": [
    "#train data\n",
    "print('# of unique words:', train['word'].nunique())\n",
    "print('# of unique tags:', train['tag'].nunique())\n",
    "\n",
    "train_tag = train['tag'].value_counts().plot(kind='bar')"
   ]
  },
  {
   "cell_type": "code",
   "execution_count": 5,
   "id": "1e1d6a6f",
   "metadata": {},
   "outputs": [
    {
     "name": "stdout",
     "output_type": "stream",
     "text": [
      "# of unique words: 8118\n",
      "# of unique tags: 43\n"
     ]
    },
    {
     "data": {
      "image/png": "[encoded data removed]",
      "text/plain": [
       "<Figure size 432x288 with 1 Axes>"
      ]
     },
     "metadata": {
      "needs_background": "light"
     },
     "output_type": "display_data"
    }
   ],
   "source": [
    "# test data\n",
    "print('# of unique words:', test['word'].nunique())\n",
    "print('# of unique tags:', test['tag'].nunique())\n",
    "\n",
    "test_tag = test['tag'].value_counts().plot(kind='bar')"
   ]
  },
  {
   "cell_type": "code",
   "execution_count": 6,
   "id": "539a7a2e",
   "metadata": {},
   "outputs": [
    {
     "name": "stdout",
     "output_type": "stream",
     "text": [
      "word\n",
      ",      10770\n",
      "the     9219\n",
      ".       8725\n",
      "of      5201\n",
      "to      5045\n",
      "a       4295\n",
      "and     3578\n",
      "in      3398\n",
      "'s      1914\n",
      "for     1857\n",
      "Name: word, dtype: int64\n"
     ]
    },
    {
     "data": {
      "text/plain": [
       "word\n",
       ",      2390\n",
       "the    2059\n",
       ".      1952\n",
       "to     1174\n",
       "of     1119\n",
       "a       919\n",
       "and     827\n",
       "in      746\n",
       "'s      429\n",
       "for     414\n",
       "Name: word, dtype: int64"
      ]
     },
     "execution_count": 6,
     "metadata": {},
     "output_type": "execute_result"
    }
   ],
   "source": [
    "print(train.groupby('word')['word'].count().nlargest(10))\n",
    "test.groupby('word')['word'].count().nlargest(10)"
   ]
  },
  {
   "cell_type": "markdown",
   "id": "4493023b",
   "metadata": {},
   "source": [
    "### Probability Functions"
   ]
  },
  {
   "cell_type": "code",
   "execution_count": 7,
   "id": "630f4606",
   "metadata": {},
   "outputs": [],
   "source": [
    "wt = list(zip(train['word'], train['tag']))\n",
    "tt = list(zip(train['tag'], train['prev_tag']))\n",
    "\n",
    "wt_count = Counter(wt)\n",
    "tt_count = Counter(tt)\n",
    "\n",
    "tag_count = Counter(train['tag'])"
   ]
  },
  {
   "cell_type": "code",
   "execution_count": 8,
   "id": "17eae644",
   "metadata": {},
   "outputs": [
    {
     "data": {
      "text/plain": [
       "0.9999999999999999"
      ]
     },
     "execution_count": 8,
     "metadata": {},
     "output_type": "execute_result"
    }
   ],
   "source": [
    "def Pt(t=''):\n",
    "    return tag_count[t]/len(train)\n",
    "\n",
    "# check if sum to 1\n",
    "np.sum([Pt(t=x) for x in tag_count])"
   ]
  },
  {
   "cell_type": "code",
   "execution_count": 9,
   "id": "88bd0398",
   "metadata": {},
   "outputs": [
    {
     "name": "stdout",
     "output_type": "stream",
     "text": [
      "1.0\n"
     ]
    },
    {
     "data": {
      "text/plain": [
       "1.0"
      ]
     },
     "execution_count": 9,
     "metadata": {},
     "output_type": "execute_result"
    }
   ],
   "source": [
    "def Pwt(w='', t=''):\n",
    "    return wt_count[w,t]/len(train)\n",
    "\n",
    "def Ptt(t1='', t2=''):\n",
    "    return tt_count[t1,t2]/len(train)\n",
    "\n",
    "# check if sum to 1\n",
    "print(np.sum([Pwt(w=i, t=j) for i,j in set(wt_count)]))\n",
    "np.sum([Ptt(t1=i, t2=j) for i,j in set(tt_count)])"
   ]
  },
  {
   "cell_type": "code",
   "execution_count": 10,
   "id": "3a34b19f",
   "metadata": {},
   "outputs": [],
   "source": [
    "def CPwt(w='', t=''):\n",
    "    p = Pwt(w=w, t=t)/Pt(t=t)\n",
    "    if p == 0:\n",
    "        return .000001\n",
    "    return p\n",
    "\n",
    "def CPtt(t1='', t2=''):\n",
    "    p = Ptt(t1=t1, t2=t2)/Pt(t=t2)\n",
    "    if p == 0:\n",
    "        return .000001\n",
    "    return p"
   ]
  },
  {
   "cell_type": "code",
   "execution_count": 11,
   "id": "726fcbfe",
   "metadata": {},
   "outputs": [],
   "source": [
    "def emission(w):\n",
    "    return [[t,CPwt(w=w,t=t)] for t in set(train['tag'])]"
   ]
  },
  {
   "cell_type": "code",
   "execution_count": 12,
   "id": "ae999dc2",
   "metadata": {},
   "outputs": [],
   "source": [
    "def transition(t):\n",
    "    return [[c, CPtt(t1=c, t2=t)] for c in set(train['tag'])]"
   ]
  },
  {
   "cell_type": "markdown",
   "id": "c09e196e",
   "metadata": {},
   "source": [
    "### Greedy HMM"
   ]
  },
  {
   "cell_type": "code",
   "execution_count": 13,
   "id": "9d760212",
   "metadata": {},
   "outputs": [
    {
     "data": {
      "text/html": [
       "<div>\n",
       "<style scoped>\n",
       "    .dataframe tbody tr th:only-of-type {\n",
       "        vertical-align: middle;\n",
       "    }\n",
       "\n",
       "    .dataframe tbody tr th {\n",
       "        vertical-align: top;\n",
       "    }\n",
       "\n",
       "    .dataframe thead th {\n",
       "        text-align: right;\n",
       "    }\n",
       "</style>\n",
       "<table border=\"1\" class=\"dataframe\">\n",
       "  <thead>\n",
       "    <tr style=\"text-align: right;\">\n",
       "      <th></th>\n",
       "      <th>word</th>\n",
       "      <th>tag</th>\n",
       "    </tr>\n",
       "  </thead>\n",
       "  <tbody>\n",
       "    <tr>\n",
       "      <th>0</th>\n",
       "      <td>Rockwell</td>\n",
       "      <td>NNP</td>\n",
       "    </tr>\n",
       "    <tr>\n",
       "      <th>1</th>\n",
       "      <td>International</td>\n",
       "      <td>NNP</td>\n",
       "    </tr>\n",
       "    <tr>\n",
       "      <th>2</th>\n",
       "      <td>Corp.</td>\n",
       "      <td>NNP</td>\n",
       "    </tr>\n",
       "    <tr>\n",
       "      <th>3</th>\n",
       "      <td>'s</td>\n",
       "      <td>POS</td>\n",
       "    </tr>\n",
       "    <tr>\n",
       "      <th>4</th>\n",
       "      <td>Tulsa</td>\n",
       "      <td>NNP</td>\n",
       "    </tr>\n",
       "    <tr>\n",
       "      <th>...</th>\n",
       "      <td>...</td>\n",
       "      <td>...</td>\n",
       "    </tr>\n",
       "    <tr>\n",
       "      <th>47372</th>\n",
       "      <td>according</td>\n",
       "      <td>VBG</td>\n",
       "    </tr>\n",
       "    <tr>\n",
       "      <th>47373</th>\n",
       "      <td>to</td>\n",
       "      <td>TO</td>\n",
       "    </tr>\n",
       "    <tr>\n",
       "      <th>47374</th>\n",
       "      <td>Mr.</td>\n",
       "      <td>NNP</td>\n",
       "    </tr>\n",
       "    <tr>\n",
       "      <th>47375</th>\n",
       "      <td>Harlow</td>\n",
       "      <td>NNP</td>\n",
       "    </tr>\n",
       "    <tr>\n",
       "      <th>47376</th>\n",
       "      <td>.</td>\n",
       "      <td>.</td>\n",
       "    </tr>\n",
       "  </tbody>\n",
       "</table>\n",
       "<p>47377 rows × 2 columns</p>\n",
       "</div>"
      ],
      "text/plain": [
       "                word  tag\n",
       "0           Rockwell  NNP\n",
       "1      International  NNP\n",
       "2              Corp.  NNP\n",
       "3                 's  POS\n",
       "4              Tulsa  NNP\n",
       "...              ...  ...\n",
       "47372      according  VBG\n",
       "47373             to   TO\n",
       "47374            Mr.  NNP\n",
       "47375         Harlow  NNP\n",
       "47376              .    .\n",
       "\n",
       "[47377 rows x 2 columns]"
      ]
     },
     "execution_count": 13,
     "metadata": {},
     "output_type": "execute_result"
    }
   ],
   "source": [
    "test"
   ]
  },
  {
   "cell_type": "code",
   "execution_count": 14,
   "id": "d7ac3356",
   "metadata": {},
   "outputs": [],
   "source": [
    "# tags list to store predicted POS tag\n",
    "tags = []\n",
    "words = list(test['word'])"
   ]
  },
  {
   "cell_type": "code",
   "execution_count": 15,
   "id": "743492cb",
   "metadata": {},
   "outputs": [
    {
     "data": {
      "text/plain": [
       "['``', 1e-06]"
      ]
     },
     "execution_count": 15,
     "metadata": {},
     "output_type": "execute_result"
    }
   ],
   "source": [
    "t = max(emission(words[0]))\n",
    "t"
   ]
  },
  {
   "cell_type": "code",
   "execution_count": 16,
   "id": "aa8e8ef9",
   "metadata": {},
   "outputs": [
    {
     "data": {
      "text/plain": [
       "['``']"
      ]
     },
     "execution_count": 16,
     "metadata": {},
     "output_type": "execute_result"
    }
   ],
   "source": [
    "# initial tag\n",
    "tags.append(t[0])\n",
    "tags"
   ]
  },
  {
   "cell_type": "code",
   "execution_count": 17,
   "id": "e2df4451",
   "metadata": {},
   "outputs": [],
   "source": [
    "# loop appends the max of the transition*emission for each tag\n",
    "for i in range(1,len(words)):\n",
    "    tlist = transition(tags[i-1])\n",
    "    elist = emission(words[i])\n",
    "    clist = [(t[0], t[1]*e[1]) for t,e in zip(tlist,elist)]\n",
    "    tags.append(max(clist, key=lambda x:x[1])[0])"
   ]
  },
  {
   "cell_type": "markdown",
   "id": "e5b3c417",
   "metadata": {},
   "source": [
    "### Accuracy"
   ]
  },
  {
   "cell_type": "code",
   "execution_count": 18,
   "id": "ce2d8ccb",
   "metadata": {},
   "outputs": [],
   "source": [
    "# creates new column based on tags list and compares the prediction with actual\n",
    "test['prediction'] = tags\n",
    "test['correct'] = np.where(test['tag'] == test['prediction'], 1, 0)"
   ]
  },
  {
   "cell_type": "code",
   "execution_count": 19,
   "id": "434917be",
   "metadata": {},
   "outputs": [
    {
     "name": "stdout",
     "output_type": "stream",
     "text": [
      "accuracy: 92.55334867129619%\n"
     ]
    }
   ],
   "source": [
    "print('accuracy:', '{}%'.format(test['correct'].sum()/len(test)*100))"
   ]
  },
  {
   "cell_type": "code",
   "execution_count": 20,
   "id": "3dac3241",
   "metadata": {},
   "outputs": [
    {
     "data": {
      "text/html": [
       "<div>\n",
       "<style scoped>\n",
       "    .dataframe tbody tr th:only-of-type {\n",
       "        vertical-align: middle;\n",
       "    }\n",
       "\n",
       "    .dataframe tbody tr th {\n",
       "        vertical-align: top;\n",
       "    }\n",
       "\n",
       "    .dataframe thead th {\n",
       "        text-align: right;\n",
       "    }\n",
       "</style>\n",
       "<table border=\"1\" class=\"dataframe\">\n",
       "  <thead>\n",
       "    <tr style=\"text-align: right;\">\n",
       "      <th></th>\n",
       "      <th>word</th>\n",
       "      <th>tag</th>\n",
       "      <th>prediction</th>\n",
       "      <th>correct</th>\n",
       "    </tr>\n",
       "  </thead>\n",
       "  <tbody>\n",
       "    <tr>\n",
       "      <th>0</th>\n",
       "      <td>Rockwell</td>\n",
       "      <td>NNP</td>\n",
       "      <td>``</td>\n",
       "      <td>0</td>\n",
       "    </tr>\n",
       "    <tr>\n",
       "      <th>1</th>\n",
       "      <td>International</td>\n",
       "      <td>NNP</td>\n",
       "      <td>NNP</td>\n",
       "      <td>1</td>\n",
       "    </tr>\n",
       "    <tr>\n",
       "      <th>2</th>\n",
       "      <td>Corp.</td>\n",
       "      <td>NNP</td>\n",
       "      <td>NNP</td>\n",
       "      <td>1</td>\n",
       "    </tr>\n",
       "    <tr>\n",
       "      <th>3</th>\n",
       "      <td>'s</td>\n",
       "      <td>POS</td>\n",
       "      <td>POS</td>\n",
       "      <td>1</td>\n",
       "    </tr>\n",
       "    <tr>\n",
       "      <th>4</th>\n",
       "      <td>Tulsa</td>\n",
       "      <td>NNP</td>\n",
       "      <td>NNP</td>\n",
       "      <td>1</td>\n",
       "    </tr>\n",
       "    <tr>\n",
       "      <th>...</th>\n",
       "      <td>...</td>\n",
       "      <td>...</td>\n",
       "      <td>...</td>\n",
       "      <td>...</td>\n",
       "    </tr>\n",
       "    <tr>\n",
       "      <th>47372</th>\n",
       "      <td>according</td>\n",
       "      <td>VBG</td>\n",
       "      <td>VBG</td>\n",
       "      <td>1</td>\n",
       "    </tr>\n",
       "    <tr>\n",
       "      <th>47373</th>\n",
       "      <td>to</td>\n",
       "      <td>TO</td>\n",
       "      <td>TO</td>\n",
       "      <td>1</td>\n",
       "    </tr>\n",
       "    <tr>\n",
       "      <th>47374</th>\n",
       "      <td>Mr.</td>\n",
       "      <td>NNP</td>\n",
       "      <td>NNP</td>\n",
       "      <td>1</td>\n",
       "    </tr>\n",
       "    <tr>\n",
       "      <th>47375</th>\n",
       "      <td>Harlow</td>\n",
       "      <td>NNP</td>\n",
       "      <td>NNP</td>\n",
       "      <td>1</td>\n",
       "    </tr>\n",
       "    <tr>\n",
       "      <th>47376</th>\n",
       "      <td>.</td>\n",
       "      <td>.</td>\n",
       "      <td>.</td>\n",
       "      <td>1</td>\n",
       "    </tr>\n",
       "  </tbody>\n",
       "</table>\n",
       "<p>47377 rows × 4 columns</p>\n",
       "</div>"
      ],
      "text/plain": [
       "                word  tag prediction  correct\n",
       "0           Rockwell  NNP         ``        0\n",
       "1      International  NNP        NNP        1\n",
       "2              Corp.  NNP        NNP        1\n",
       "3                 's  POS        POS        1\n",
       "4              Tulsa  NNP        NNP        1\n",
       "...              ...  ...        ...      ...\n",
       "47372      according  VBG        VBG        1\n",
       "47373             to   TO         TO        1\n",
       "47374            Mr.  NNP        NNP        1\n",
       "47375         Harlow  NNP        NNP        1\n",
       "47376              .    .          .        1\n",
       "\n",
       "[47377 rows x 4 columns]"
      ]
     },
     "execution_count": 20,
     "metadata": {},
     "output_type": "execute_result"
    }
   ],
   "source": [
    "test"
   ]
  },
  {
   "cell_type": "markdown",
   "id": "6bc99974",
   "metadata": {},
   "source": [
    "### Confusion Matrix"
   ]
  },
  {
   "cell_type": "code",
   "execution_count": 21,
   "id": "4facdc93",
   "metadata": {},
   "outputs": [],
   "source": [
    "from sklearn.metrics import confusion_matrix\n",
    "c = confusion_matrix(test['tag'], test['prediction'], labels=list(set(test['tag'])))"
   ]
  },
  {
   "cell_type": "code",
   "execution_count": 22,
   "id": "84179870",
   "metadata": {
    "scrolled": true
   },
   "outputs": [
    {
     "name": "stdout",
     "output_type": "stream",
     "text": [
      "[[ 115    0    0    0    3    0    0    0    0    0    0    0    0    0\n",
      "     0    0    0    0    0    0    0    0    0    0    0    0    0    0\n",
      "     0    0    0    0    0    0    0    0    0    0    0    0    0    0\n",
      "    84]\n",
      " [   0 2443    0    0  143    0    0    0    0    0    0    8    1    0\n",
      "     0    0  226    0    0    5    0    0   67    0    0    0    0    5\n",
      "     0    0   28    0    0    0    0    0    0    0    0    0    0    0\n",
      "    38]\n",
      " [   0    1   35    0    0    0    0    0    0    0    0    0    0    0\n",
      "     0    0    0    0    0    0    0    0    0    0    0    0    0    0\n",
      "     0    0    0    0    0    0    0    0    0    0    0    0    0   35\n",
      "     0]\n",
      " [   0    0    0    4    0    0    0    0    0    0    0    0    0    0\n",
      "     0    0    0    0    0    0    0    0    0    0    0    0    0    0\n",
      "     0    0    0    0    0    0    0    0    0    0    0    0    0    0\n",
      "     0]\n",
      " [   2    0    0    0 3997    0    0    1    0    0    0    0    0    0\n",
      "     0    0    0    0    0    0    0    0    0    0    0    0    0    0\n",
      "     0    0    0    0    0    0    0    0    0    0    0    0    0    0\n",
      "    20]\n",
      " [   0    0    0    0    0  394    1    0    0    0    0    0   39    0\n",
      "     0    0    0    0    0    0    0    0    0    0    0    0    0    0\n",
      "     0    0    0    0    0    0    0    0    0    0    0    0    0    0\n",
      "     0]\n",
      " [   0    0    0    0    0    1  314    0    0    0    0    0    0    0\n",
      "     0    0    0    0    0    0    0    0    0    0    0    0    0    0\n",
      "     0    0    0    0    0    0    1    0    0    0    0    0    0    0\n",
      "     0]\n",
      " [   0    0    0    0    4    0    0    4    0    0    0    0    0    0\n",
      "     0    0    2    0    0    0    0    0    0    0    0    0    0    0\n",
      "     0    0    0    0    0    0    0    0    0    0    0    0    0    0\n",
      "     0]\n",
      " [   0    0    0    0    2    0    0    0  445    0    0    1    0    0\n",
      "     0    0   46    0    0    0    0    0    0    0    0    2    0   34\n",
      "     0    0    0    0    0    0    3    0    1    0    0    0    0    0\n",
      "     5]\n",
      " [   0    0    0    0    0    0    0    0    0 1178    0    0    0    0\n",
      "     0    0    0    0    0    0    0    0    0    0    0    0    0    0\n",
      "     0    0    0    0    0    0    0    0    0    0    0    0    0    0\n",
      "     0]\n",
      " [   0    0    0    0    0    0    0    0    0    0    5    0    0    0\n",
      "     0    0    0    0    0    0    0    0    0    0    0    0    0    0\n",
      "     0    0    4    0    0    0    0    0    0    0    0    0    0    0\n",
      "     3]\n",
      " [   0    0    0    0    0    0    0    0    0    0    0  813    0    0\n",
      "     0    0    0    0    0    1    0    0    0    0    0    0    0    0\n",
      "     0    0    0    0    0    0    0    0    0    0    0    0    0    0\n",
      "     0]\n",
      " [   0    0    0    0   10    1    0    0    0    0    0    0  829    0\n",
      "     0    0    3    0    0    0    0    0    8    0    0    0    0    1\n",
      "     0    0    0    0    0    0    9   36    0    0    0    0    0    0\n",
      "    16]\n",
      " [   0    0    0    0    0    0    0    0    0    0    0    0    0    3\n",
      "     0    0    1    0    0    0    0    0    0    0    0    0    0    0\n",
      "     0    0    0    0    0    0    0    0    0    0    0    0    0    0\n",
      "     0]\n",
      " [   0    0    0    0    0    0    0    0    0    0    0    0    0    0\n",
      "   384    0    0    0    0    0    0    0    0    0    0    0    0    0\n",
      "     0    0    0    0    0    0    0    0    0    0    0    0    0    0\n",
      "     0]\n",
      " [   0    0    0    0    0    0    0    0    0    0    0    0    0    0\n",
      "     0   77    0    0    0    0    0    0    0    0    0    0    0    0\n",
      "     0    0    0    0    0    0    0    0    0    0    0    0    0    0\n",
      "     0]\n",
      " [   0   74    0    0  121    0    0    6   10    0    0   12    1    0\n",
      "     0    0 6179    0    0    0    0    0   75    0    0    4    0   28\n",
      "     0    0    7    0    0    0    4    0   13    1    0    0    0    0\n",
      "   107]\n",
      " [   0    0    0    0    0    0    0    0    0    0    0    0    0    0\n",
      "     0    0    0  110    0    0    0    0    0    0    0    0    0    0\n",
      "     0    0    0    0    0    0    0    0    0    0    0    0    0    0\n",
      "     0]\n",
      " [   0    0    0    0    1    0    0    0    0    0    0    0    0    0\n",
      "     0    0    0    0    1    0    0    0    0    0    0    0    0    0\n",
      "     0    0    0    0    0    0    0    0    0    0    0    0    0    0\n",
      "     0]\n",
      " [   0    1    0    0   90    0    0    0    0    0    0    1    1    0\n",
      "     0    0   13    0    0 1765    0    0    8    0    0    0    0   23\n",
      "     0    0    0    0    0    0    0    0    0    0    0    0    0    0\n",
      "    16]\n",
      " [   0    0    0    0    0    0    0    0    0    0    0    0    0    0\n",
      "     0    0    0    0    0    0 1975    0    0    0    0    0    0    0\n",
      "     0    0    0    0    0    0    0    0    0    0    0    0    0    0\n",
      "     0]\n",
      " [   0    0    0    0    0    0    0    0    0    0    0    0    0    0\n",
      "     0    0    0    0    0    0    0   48    0    0    0    0    0    0\n",
      "     0    0    0    0    0    0    0    0    0    0    0    0    0    0\n",
      "     0]\n",
      " [   0   31    0    0  345    0    0    0    0    0    0    9    8    0\n",
      "     0    0  202    0    0    0    0    0 4116    0    0    0    0   13\n",
      "     0    0    2    0    2    1    6    4    0    0    0   12    0    0\n",
      "    55]\n",
      " [   0    0    0    0    0    0    0    0    0    0    0    0    0    0\n",
      "     0    0    1    0    0    0    0    0    0   76    0    0    0    0\n",
      "     0    0    0    0    0    0    0    0    0    0    0    0    0    0\n",
      "     0]\n",
      " [   0    0    0    0    1    0    0    0    0    0    0    0    0    0\n",
      "     0    0    0    0    0    0    0    0    0    0   48    0    0    0\n",
      "     0    0    0    0    0    0    0    0    0    0    0    0    0    0\n",
      "     0]\n",
      " [   0    0    0    0   69    0    0    0    0    0    0    1    0    0\n",
      "     0    0   12    0    0    0    0    0    6    0    0  890    0    2\n",
      "     0    0    6    0    0    0   90    0    0    0    0    0    0    0\n",
      "    28]\n",
      " [   0    0    0    0    0    0    0    0    0    0    0    0    0    0\n",
      "     0    0    0    0    0    0    0    0    0    0    0    0  420    0\n",
      "     0    0    0    0    0    0    1    0    0    0    0    0    0    0\n",
      "     0]\n",
      " [   0   11    0    0    3    0    0    0   39    0    0    3    0    0\n",
      "     0    0   42    0    0    0    0    0    2    0    0    3    0 1158\n",
      "     0    0    0    0    0    0    0    0    0    0    0    0    0    0\n",
      "     8]\n",
      " [   0    0    0    0    0    0    0    0    0    0    0    1    0    0\n",
      "     0    0    0    0    0    0    0    0    0    0    0    0    0    0\n",
      "   237    0    0    0    0    0    0    0    0    0    0    0    0    0\n",
      "     0]\n",
      " [   0    0    0    0    0    0    0    0    0    0    0    0    0    0\n",
      "     0    0    0    0    0    0    0    0    0    0    0    0    0    0\n",
      "     0   11    0    0    0    0    0    0    0    0    0    0    0    0\n",
      "     0]\n",
      " [   0   26    0    0   36    0    0    0    0    0    2    2    1    0\n",
      "     0    0    5    0    0    0    0    1   10    0    0    0    0    4\n",
      "     0    0 1187    0    0    0    5    0    0    0    0    0    0    0\n",
      "    75]\n",
      " [   0    0    0    0    1    0    0    0    0    0    0    0    0    0\n",
      "     0    0    2    0    0    0    0    0    0    0    0    0    0    0\n",
      "     0    0    0 1211    0    0    0    0    0    0    0    0    0    0\n",
      "     0]\n",
      " [   0    0    0    0    1    0    0    0    0    0    0    0    0    0\n",
      "     0    0    0    0    0    0    0    0    0    0    0    0    0    0\n",
      "     0    0    0    0 2389    0    0    0    0    0    0    0    0    0\n",
      "     0]\n",
      " [   0    0    0    0    0    0    0    0    0    0    0    0    0    0\n",
      "     0    0    0    0    0    0    0    0    0    0    0    0    0    0\n",
      "     0    0    0    0    0  323    0    0    0    0    0    0    0    0\n",
      "     0]\n",
      " [   0    1    0    0   15    0    0    0    0    0    0    0    1    0\n",
      "     0    0    1    0    0    0    0    0   16    0    0  114    0    0\n",
      "     0    0    0    0    0    0 1519    0    0    0    0    0    0    0\n",
      "    12]\n",
      " [   0    5    0    0  102    0    0    0    0    0    0    4   14    0\n",
      "     0    0  151    0    0    0    0    0   50    0    0    0    0    1\n",
      "     0    0    3    0    1    0    1 2650    0    0    0    2    0    0\n",
      "    50]\n",
      " [   0    0    0    0   63    0    0    0    0    0    0    2    3    0\n",
      "     0    0   37    0    0    0    0    0    4    0    0    0    0    2\n",
      "     0    0    9    0    1    0    1    0  591    0    0    0    0    0\n",
      "    15]\n",
      " [   0    2    0    0    1    0    0    0    0    0    0    0    0    0\n",
      "     0    0    0    0    0    0    0    0    1    0    0    0    0    1\n",
      "     0    0    0    0    0    0    0    0    0  465    0    0    0    0\n",
      "     0]\n",
      " [   0    0    0    0    0    0    0    0    0    0    0    1    0    0\n",
      "     0    0    0    0    0    0    0    0    0    0    0    0    0    0\n",
      "     0    0    0    0    0    0    0    0    0    0   92    0    0    0\n",
      "     0]\n",
      " [   0    0    0    0    6    0    0    0    0    0    0    1    0    0\n",
      "     0    0   16    0    0    0    0    0   22    0    0    0    0    0\n",
      "     0    0    0    0    0    0    5    1    0    0    0   76    0    0\n",
      "     3]\n",
      " [   0    0    0    0    0    0    0    0    0    0    0    0    0    0\n",
      "     0    0    5    0    0    0    0    0    0    0    0    0    0    0\n",
      "     0    0    0    0    0    0    0    0    0    0    0    0   72    0\n",
      "     0]\n",
      " [   0    0   13    0    3    0    0    0    0    0    0    1    0    0\n",
      "     0    0    1    0    0    0    0    0    0    0    0    0    0    0\n",
      "     0    0    0    0    0    0    0    0    0    0    0    0    0  183\n",
      "     1]\n",
      " [  10    0    0    0   12    0    0    0    0    0   13    0    0    0\n",
      "     0    0    3    0    0    0    0    0    0    0    0    0    0    0\n",
      "     0    0   16    0    0    0    0    0    0    0    0    0    0    0\n",
      "  5017]]\n"
     ]
    }
   ],
   "source": [
    "np.set_printoptions(threshold=np.inf)\n",
    "print(c)"
   ]
  },
  {
   "cell_type": "code",
   "execution_count": 23,
   "id": "5af4e191",
   "metadata": {},
   "outputs": [
    {
     "name": "stdout",
     "output_type": "stream",
     "text": [
      "0 WDT 0.5693069306930693 202\n",
      "1 JJ 0.8242240215924427 2964\n",
      "2 RBR 0.49295774647887325 71\n",
      "3 WP$ 1.0 4\n",
      "4 DT 0.9942786069651741 4020\n",
      "5 POS 0.9078341013824884 434\n",
      "6 '' 0.9936708860759493 316\n",
      "7 PDT 0.4 10\n",
      "8 VBP 0.8256029684601113 539\n",
      "9 TO 1.0 1178\n",
      "10 RP 0.4166666666666667 12\n",
      "11 PRP 0.9987714987714987 814\n",
      "12 VBZ 0.9079956188389924 913\n",
      "13 FW 0.75 4\n",
      "14 $ 1.0 384\n",
      "15 ) 1.0 77\n",
      "16 NN 0.9302920806985847 6642\n",
      "17 WP 1.0 110\n",
      "18 UH 0.5 2\n",
      "19 CD 0.9202294056308655 1918\n",
      "20 . 1.0 1975\n",
      "21 EX 1.0 48\n",
      "22 NNP 0.8564294631710362 4806\n",
      "23 ( 0.987012987012987 77\n",
      "24 RBS 0.9795918367346939 49\n",
      "25 VBN 0.8061594202898551 1104\n",
      "26 PRP$ 0.997624703087886 421\n",
      "27 VB 0.9125295508274232 1269\n",
      "28 : 0.9957983193277311 238\n",
      "29 # 1.0 11\n",
      "30 RB 0.8766617429837519 1354\n",
      "31 CC 0.9975288303130149 1214\n",
      "32 , 0.999581589958159 2390\n",
      "33 `` 1.0 323\n",
      "34 VBD 0.9047051816557474 1679\n",
      "35 NNS 0.8734344100197758 3034\n",
      "36 VBG 0.8118131868131868 728\n",
      "37 MD 0.9893617021276596 470\n",
      "38 WRB 0.989247311827957 93\n",
      "39 NNPS 0.5846153846153846 130\n",
      "40 JJS 0.935064935064935 77\n",
      "41 JJR 0.905940594059406 202\n",
      "42 IN 0.9893512127785447 5071\n"
     ]
    }
   ],
   "source": [
    "# tag, correct, sum for each tag's confusion matrix\n",
    "labels = list(set(test['tag']))\n",
    "for i,j in enumerate(c):\n",
    "    print(i, labels[i], c[i][i]/sum(c[i]), sum(c[i]))"
   ]
  },
  {
   "cell_type": "markdown",
   "id": "f1a28150",
   "metadata": {},
   "source": [
    "### what are some common errors that your tagger makes?\n",
    "The tagger had low accuracy on the NNPS, PDT, WDT, UH, RP, and RBR tags. Many of the tags that have a low accuracy have small sample sizes, so the tagger does not predict these as much due to a smaller probability of them occuring. There were a few tags such as RBR for example would predict JJR about half of the time. "
   ]
  }
 ],
 "metadata": {
  "kernelspec": {
   "display_name": "Python 3 (ipykernel)",
   "language": "python",
   "name": "python3"
  },
  "language_info": {
   "codemirror_mode": {
    "name": "ipython",
    "version": 3
   },
   "file_extension": ".py",
   "mimetype": "text/x-python",
   "name": "python",
   "nbconvert_exporter": "python",
   "pygments_lexer": "ipython3",
   "version": "3.9.7"
  }
 },
 "nbformat": 4,
 "nbformat_minor": 5
}
